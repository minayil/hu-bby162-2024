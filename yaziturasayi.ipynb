{
  "nbformat": 4,
  "nbformat_minor": 0,
  "metadata": {
    "colab": {
      "provenance": [],
      "authorship_tag": "ABX9TyP/TBjsnneny3zAuxlhw+Zd",
      "include_colab_link": true
    },
    "kernelspec": {
      "name": "python3",
      "display_name": "Python 3"
    },
    "language_info": {
      "name": "python"
    }
  },
  "cells": [
    {
      "cell_type": "markdown",
      "metadata": {
        "id": "view-in-github",
        "colab_type": "text"
      },
      "source": [
        "<a href=\"https://colab.research.google.com/github/minayil/hu-bby162-2024/blob/main/yaziturasayi.ipynb\" target=\"_parent\"><img src=\"https://colab.research.google.com/assets/colab-badge.svg\" alt=\"Open In Colab\"/></a>"
      ]
    },
    {
      "cell_type": "code",
      "execution_count": 18,
      "metadata": {
        "id": "OlolrX_I-Qlq"
      },
      "outputs": [],
      "source": []
    },
    {
      "source": [
        "import random\n",
        "\n",
        "# Initialize counters for yazı and tura.\n",
        "yazı_count = 0\n",
        "tura_count = 0\n",
        "\n",
        "def yazı_tura():\n",
        "  \"\"\"\n",
        "  Simulates a coin toss and prints the result and the current counts.\n",
        "  \"\"\"\n",
        "  global yazı_count, tura_count\n",
        "\n",
        "  # Generate a random integer between 0 and 1.\n",
        "  result = random.randint(0, 1)\n",
        "\n",
        "  # Update the counters.\n",
        "  if result == 0:\n",
        "    yazı_count += 1\n",
        "  else:\n",
        "    tura_count += 1\n",
        "\n",
        "  # Print the result and the current counts.\n",
        "  print(f\"Önceki: yazı: {yazı_count - 1}, tura: {tura_count - 1}\")\n",
        "  if result == 0:\n",
        "    print(\"yazı\")\n",
        "  else:\n",
        "    print(\"tura\")\n",
        "  print(f\"Şimdi: yazı: {yazı_count}, tura: {tura_count}\")\n",
        "\n",
        "# Run the program in a loop.\n",
        "while True:\n",
        "  yazı_tura()\n",
        "\n",
        "  # Ask the user if they want to continue.\n",
        "  continue_playing = input(\"Devam etmek istiyor musunuz? (e/h): \")\n",
        "  if continue_playing.lower() != \"e\":\n",
        "    break\n",
        "\n",
        "# Print the final score.\n",
        "print(f\"\\nYazı: {yazı_count}, Tura: {tura_count}\")"
      ],
      "cell_type": "code",
      "metadata": {
        "colab": {
          "base_uri": "https://localhost:8080/"
        },
        "id": "__tIF0B0Cl4M",
        "outputId": "0a490703-6d1b-43e1-ddb2-53df63a84a7b"
      },
      "execution_count": null,
      "outputs": [
        {
          "output_type": "stream",
          "name": "stdout",
          "text": [
            "Önceki: yazı: -1, tura: 0\n",
            "tura\n",
            "Şimdi: yazı: 0, tura: 1\n",
            "Devam etmek istiyor musunuz? (e/h): e\n",
            "Önceki: yazı: 0, tura: 0\n",
            "yazı\n",
            "Şimdi: yazı: 1, tura: 1\n",
            "Devam etmek istiyor musunuz? (e/h): e\n",
            "Önceki: yazı: 0, tura: 1\n",
            "tura\n",
            "Şimdi: yazı: 1, tura: 2\n",
            "Devam etmek istiyor musunuz? (e/h): e\n",
            "Önceki: yazı: 1, tura: 1\n",
            "yazı\n",
            "Şimdi: yazı: 2, tura: 2\n",
            "Devam etmek istiyor musunuz? (e/h): e\n",
            "Önceki: yazı: 1, tura: 2\n",
            "tura\n",
            "Şimdi: yazı: 2, tura: 3\n",
            "Devam etmek istiyor musunuz? (e/h): e\n",
            "Önceki: yazı: 2, tura: 2\n",
            "yazı\n",
            "Şimdi: yazı: 3, tura: 3\n"
          ]
        }
      ]
    }
  ]
}