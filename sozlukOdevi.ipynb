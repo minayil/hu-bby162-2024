{
  "nbformat": 4,
  "nbformat_minor": 0,
  "metadata": {
    "colab": {
      "provenance": [],
      "authorship_tag": "ABX9TyNGUwQCQjdlXdB7v9ZfBUTn",
      "include_colab_link": true
    },
    "kernelspec": {
      "name": "python3",
      "display_name": "Python 3"
    },
    "language_info": {
      "name": "python"
    }
  },
  "cells": [
    {
      "cell_type": "markdown",
      "metadata": {
        "id": "view-in-github",
        "colab_type": "text"
      },
      "source": [
        "<a href=\"https://colab.research.google.com/github/minayil/hu-bby162-2024/blob/main/sozlukOdevi.ipynb\" target=\"_parent\"><img src=\"https://colab.research.google.com/assets/colab-badge.svg\" alt=\"Open In Colab\"/></a>"
      ]
    },
    {
      "cell_type": "code",
      "execution_count": null,
      "metadata": {
        "id": "zJ54OwVz3CVg"
      },
      "outputs": [],
      "source": [
        "#Müzik Terimleri Sözlüğü\n",
        "########################\n",
        "\n",
        "muzik_terimleri = {\n",
        "    \"akor\": \"Bir arada çalınan üç veya daha fazla notanın oluşturduğu ses.\",\n",
        "    \"arp\": \"Bir enstrümanın teli veya telleri üzerinde, önceden belirlenmiş bir düzenekle notaların çalınması.\",\n",
        "    \"arpej\": \"Bir akorun seslerinin sırayla çalınması.\",\n",
        "    \"bateri\": \"Vurmalı çalgılar seti.\",\n",
        "    \"soprano\": \"Kadın sesinin en yüksek aralığındaki sese sahip vokal solist.\",\n",
        "    \"çalgı\": \"Müzik aleti.\",\n",
        "    \"düet\": \"İki müzisyen veya şarkıcının birlikte çaldığı veya söylediği parça.\",\n",
        "    \"fuga\": \"Bir tema veya motifi takip eden seslerin, belirli bir sıra ve düzen içinde birbirini izlemesi.\",\n",
        "    \"gitar\": \"Telli bir müzik aleti.\",\n",
        "    \"melodi\": \"Müziğin temel melodik parçası.\",\n",
        "    \"metronom\": \"Tempo tutma amaçlı kullanılan cihaz.\",\n",
        "    \"notalar\": \"Müzikteki sesleri belirtmek için kullanılan semboller.\",\n",
        "    \"orkestra\": \"Çeşitli çalgıların bir araya gelerek oluşturduğu müzik topluluğu.\",\n",
        "    \"partisyon\": \"Müzik notalarının yazılı olduğu kağıt.\",\n",
        "    \"ritim\": \"Müzikteki seslerin zaman içindeki düzeni.\",\n",
        "    \"solfej\": \"Müziğin teorik yönlerini öğrenmek için yapılan egzersizler.\",\n",
        "    \"solist\": \"Tek bir enstrüman veya sesin ön planda olduğu parça.\",\n",
        "    \"solo\": \"Bir müzisyenin veya şarkıcının yalnızca çaldığı veya söylediği bölüm.\",\n",
        "    \"tempo\": \"Müziğin çalınma hızı.\",\n",
        "    \"tercüme\": \"Bir müzik parçasının farklı bir enstrüman veya aranjmanla yeniden düzenlenmesi.\",\n",
        "    \"tonalite\": \"Bir müzik parçasının temel notası veya anahtarı.\",\n",
        "    \"transpozisyon\": \"Bir müzik parçasının başka bir tonaliteye taşınması.\",\n",
        "    \"vokal\": \"Şarkı söyleyen ses veya sesler.\",\n",
        "    \"yarım ton\": \"İki nota arasındaki en küçük ses aralığı.\",\n",
        "    \"yaylılar\": \"Yaylı çalgılar grubu.\"\n",
        "}\n",
        "\n",
        "print(muzik_terimleri)"
      ]
    },
    {
      "cell_type": "code",
      "source": [
        "#sözlükte arama yapmak için bu hücreyi çalıştırın\n",
        "arananterim = input(\"aramak istediğiniz terimi giriniz: \")\n",
        "print(muzik_terimleri[arananterim])"
      ],
      "metadata": {
        "id": "iBxpoy8cGLrz"
      },
      "execution_count": null,
      "outputs": []
    },
    {
      "cell_type": "code",
      "source": [
        "#sözlükten bir terimi silmek için bu hücreyi çalıştırın\n",
        "silinenterim = input(\"silmek istediğiniz terimi giriniz: \")\n",
        "del muzik_terimleri[silinenterim]\n",
        "print(\"Yazdığınız terim sözlükten kaldırıldı.Sözlüğün yeni hali: \")\n",
        "print(muzik_terimleri)"
      ],
      "metadata": {
        "id": "nUBxj1LAT7n6"
      },
      "execution_count": null,
      "outputs": []
    }
  ]
}