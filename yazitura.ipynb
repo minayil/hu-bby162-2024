{
  "nbformat": 4,
  "nbformat_minor": 0,
  "metadata": {
    "colab": {
      "provenance": [],
      "authorship_tag": "ABX9TyOPEgXE/uwQx55Tx0zmtYcH",
      "include_colab_link": true
    },
    "kernelspec": {
      "name": "python3",
      "display_name": "Python 3"
    },
    "language_info": {
      "name": "python"
    }
  },
  "cells": [
    {
      "cell_type": "markdown",
      "metadata": {
        "id": "view-in-github",
        "colab_type": "text"
      },
      "source": [
        "<a href=\"https://colab.research.google.com/github/minayil/hu-bby162-2024/blob/main/yazitura.ipynb\" target=\"_parent\"><img src=\"https://colab.research.google.com/assets/colab-badge.svg\" alt=\"Open In Colab\"/></a>"
      ]
    },
    {
      "cell_type": "code",
      "execution_count": null,
      "metadata": {
        "id": "OlolrX_I-Qlq"
      },
      "outputs": [],
      "source": []
    },
    {
      "source": [
        "import random\n",
        "\n",
        "def coin_toss():\n",
        "  \"\"\"\n",
        "  Simulates a coin toss and returns the result.\n",
        "  \"\"\"\n",
        "  # Generate a random integer between 0 and 1\n",
        "  random_number = random.randint(0, 1)\n",
        "\n",
        "  # Map the random integer to \"yazı\" or \"tura\"\n",
        "  if random_number == 0:\n",
        "    result = \"yazı\"\n",
        "  else:\n",
        "    result = \"tura\"\n",
        "\n",
        "  # Return the result\n",
        "  return result\n",
        "\n",
        "# Call the coin_toss function and print the result\n",
        "print(coin_toss())"
      ],
      "cell_type": "code",
      "metadata": {
        "colab": {
          "base_uri": "https://localhost:8080/"
        },
        "id": "k8E9Y5l7-p38",
        "outputId": "c228c3e1-72ab-4785-f3ff-c669ad9b4ec0"
      },
      "execution_count": 19,
      "outputs": [
        {
          "output_type": "stream",
          "name": "stdout",
          "text": [
            "tura\n"
          ]
        }
      ]
    }
  ]
}