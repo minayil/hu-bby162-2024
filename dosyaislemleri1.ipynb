{
  "nbformat": 4,
  "nbformat_minor": 0,
  "metadata": {
    "colab": {
      "provenance": [],
      "authorship_tag": "ABX9TyMC+/dMk0mREJyVAQO87pjY",
      "include_colab_link": true
    },
    "kernelspec": {
      "name": "python3",
      "display_name": "Python 3"
    },
    "language_info": {
      "name": "python"
    }
  },
  "cells": [
    {
      "cell_type": "markdown",
      "metadata": {
        "id": "view-in-github",
        "colab_type": "text"
      },
      "source": [
        "<a href=\"https://colab.research.google.com/github/minayil/hu-bby162-2024/blob/main/dosyaislemleri1.ipynb\" target=\"_parent\"><img src=\"https://colab.research.google.com/assets/colab-badge.svg\" alt=\"Open In Colab\"/></a>"
      ]
    },
    {
      "cell_type": "code",
      "execution_count": 44,
      "metadata": {
        "id": "CslU7f0YkItj",
        "colab": {
          "base_uri": "https://localhost:8080/"
        },
        "outputId": "fa3aaa7a-5433-4512-b80f-fe74717bfba7"
      },
      "outputs": [
        {
          "name": "stdout",
          "output_type": "stream",
          "text": [
            "adınızı ve soyadınızı giriniz: mina yılmaz\n",
            "epostanızı giriniz: minayilmaz03@gmail.com\n"
          ]
        }
      ],
      "source": [
        "dosya = \"/content/dosyaislemleri\"\n",
        "\n",
        "dosyaislemleri = open(dosya, \"w\")\n",
        "\n",
        "adSoyad = input(\"adınızı ve soyadınızı giriniz: \")\n",
        "ePosta = input(\"epostanızı giriniz: \")\n",
        "\n",
        "dosyaislemleri = open(dosya, \"a\")\n",
        "dosyaislemleri.write(adSoyad+\" -- \"+ePosta)\n",
        "dosyaislemleri.close()"
      ]
    },
    {
      "cell_type": "code",
      "source": [
        "dosyaislemleri = open(dosya, \"r\")\n",
        "\n",
        "for satir in dosyaislemleri.readlines():\n",
        "  print(satir)\n",
        "\n",
        "dosyaislemleri.close()"
      ],
      "metadata": {
        "colab": {
          "base_uri": "https://localhost:8080/"
        },
        "id": "jVJnTVGRruq-",
        "outputId": "e6ff8a19-b891-44f8-cb95-8439fb6ed73f"
      },
      "execution_count": 45,
      "outputs": [
        {
          "output_type": "stream",
          "name": "stdout",
          "text": [
            "mina yılmaz -- minayilmaz03@gmail.com\n"
          ]
        }
      ]
    }
  ]
}