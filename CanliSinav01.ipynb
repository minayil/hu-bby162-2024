{
  "nbformat": 4,
  "nbformat_minor": 0,
  "metadata": {
    "colab": {
      "provenance": [],
      "include_colab_link": true
    },
    "kernelspec": {
      "name": "python3",
      "display_name": "Python 3"
    },
    "language_info": {
      "name": "python"
    }
  },
  "cells": [
    {
      "cell_type": "markdown",
      "metadata": {
        "id": "view-in-github",
        "colab_type": "text"
      },
      "source": [
        "<a href=\"https://colab.research.google.com/github/minayil/hu-bby162-2024/blob/main/CanliSinav01.ipynb\" target=\"_parent\"><img src=\"https://colab.research.google.com/assets/colab-badge.svg\" alt=\"Open In Colab\"/></a>"
      ]
    },
    {
      "cell_type": "markdown",
      "source": [
        "**Canlı Sınav 01'e hoşgeldiniz!**"
      ],
      "metadata": {
        "id": "ItmuxWgBbkC1"
      }
    },
    {
      "cell_type": "markdown",
      "source": [
        "Canlı sınav, bilgisayar laboratuvarında bilgisayar başında yapılan ve teslim edilen projeyi ifade etmektedir. Canlı sınavda yazmış olduğunuz kodlar sizin sorumluluğunuzdadır ve gerekirse hangi kodu neden yazdığınızı açık bir şekilde anlatabilmeniz gerekmektedir. Canlı sınav sırasında İnternet üzerindeki kaynaklar kullanılabilir ancak başka bir kişiden destek alınamaz.\n",
        "\n",
        "Canlı sınavın teslim şekli önceki proje çalışmasında olduğu gibidir. \"Canlı Sınav 01\" adlı Colab not defterinin bir kopyasını çıkarmalı, size ait olan bu kopya üzerinde soruları cevaplamalı, GitHub'daki ders deponuza size ait kopyayı yüklemeli ve not defterinin adresini metin alanına yazarak göndermelisiniz.\n",
        "\n",
        "Canlı sınavın doğru şekilde tamamlanması da sınavın önemli bir parçasıdır. Sınav için gönderdiğiniz adresi kontrol ediniz ve doğru dosyayı depoya yerleştirdiği bizden emin olunuz. Teslim sürecinde yapılan hatalar sınavdan 0 puan almanıza yol açabilir!\n",
        "\n",
        "Önemli Not: Soruları cecaplarken sadece şu ana kadar öğrendiğiniz kod yapılarını kullanmanız gerekmektedir!!!"
      ],
      "metadata": {
        "id": "KGjdjR5RbTgH"
      }
    },
    {
      "cell_type": "markdown",
      "source": [
        "**----- Sorular -----**"
      ],
      "metadata": {
        "id": "zBvdh4s8cOqM"
      }
    },
    {
      "cell_type": "markdown",
      "source": [
        "**Soru 1:** Bir giriş sisteminde kullanıcı adı olarak eposta ya da telefon numarası kullanılabilmektedir. Şifre ise tektir. Klavyeden doğru kullanıcı adı ve şifre girildiğinde ekrana \" Sisteme giriş yaptınız\" , yanlış kullanıcı adı girildiğinde \"kullanıcı adı hatalı\" , yanlış şifre girildiğinde \"şifre hatalı\" bilgisi yazdırılmalıdır. Kullanıcı adı hatalı ise şifre sorma adımına geçilmemelidir."
      ],
      "metadata": {
        "id": "ma0FVqgQiLBe"
      }
    },
    {
      "cell_type": "code",
      "source": [
        "#Soru 1 bu bölümde kodlanmalıdır\n",
        "eposta = \"a@a.net\"\n",
        "tel = \"532\"\n",
        "sifre = \"123\"\n",
        "eposta = tel\n",
        "kullaniciAdi = eposta\n",
        "girisKullaniciAdi = input(\"lütfen kullanıcı adı girin\")\n",
        "if girisKullaniciAdi == kullaniciAdi:\n",
        "  print(\"kullanıcı adınız doğrudur.şimdi de şifrenizi giriniz!\")\n",
        "  girilenSifre = input(\"sifre\")\n",
        "  if girilenSifre == sifre:\n",
        "    print(\"sisteme giriş yaptınız\")\n",
        "  else:\n",
        "    print(\"girdiğiniz şifre hatalı!\")\n",
        "else:\n",
        "  print(\"kullanıcı adı hatalı!\")"
      ],
      "metadata": {
        "id": "Fj7wkLMcjp_7"
      },
      "execution_count": null,
      "outputs": []
    },
    {
      "cell_type": "markdown",
      "source": [
        "**Soru 2:** Klavyeden girilen bir insan ismindeki harf sayısına göre ekrana bir cümle yazdırınız. Örneğin 4 harfli bir isim girildiğinde ekrana \"Dört dörtlük bir isim\", 6 harfli bir isim girildiğinde ekrana \"Altıncı hissin kuvvetli\" yazılabilmelidir. Klavyeden üçten az ya da yediden çok harfe sahip bir isim girildiğinde ise ekrana \"isminiz sisteme uygun değildir\" mesajı yazdırılmalıdır."
      ],
      "metadata": {
        "id": "uZDiXJARgK4o"
      }
    },
    {
      "cell_type": "code",
      "source": [
        "#Soru 2 bu bölümde kodlanmalıdır\n",
        "isim = input(\"klavyeden bir isim giriniz: \")\n",
        "\n",
        "if 3 == len(isim):\n",
        "  print(\"üç harfliler\")\n",
        "elif 4 == len(isim):\n",
        "  print(\"dört dörtlük bir isim!!\")\n",
        "elif 5 == len(isim):\n",
        "  print(\"on numara beş yıldız isim\")\n",
        "elif 6 == len(isim):\n",
        "  print(\"Altıncı hissin kuvvetli!!!\")\n",
        "\n",
        "else:\n",
        "  print(\"isminiz sisteme uygun değildir!\")"
      ],
      "metadata": {
        "id": "no7Zd1ZCh5U3"
      },
      "execution_count": null,
      "outputs": []
    },
    {
      "cell_type": "markdown",
      "source": [
        "**Soru 3:** 5 öğenin yer aldığı bir kelime tahmin oyunu oluşturun. Kelimeler bir liste içinde yer almalıdır. Klavyeden girilen kelime liste içinde yer alan kelimelerden biri ise ekrana \"bravo oyunu kazandınız\", aksi halde ise ekrana \"üzgünüm oyunu kaybettiniz\" mesajı gelmelidir."
      ],
      "metadata": {
        "id": "HnIqbjcCeNEV"
      }
    },
    {
      "cell_type": "code",
      "source": [
        "#Soru 3 bu bölümde kodlanmalıdır\n",
        "kelimeListesi=[\"elma\",\"armut\",\"kavun\",\"şeftali\"]\n",
        "sozcuk = input(\"bir kelime giriniz\")\n",
        "if sozcuk in kelimeListesi:\n",
        "  print(\"Bravo oyunu kazandınız!!\")\n",
        "else:\n",
        "  print(\"üzgünüm oyunu kaybettiniz!!\")\n",
        "\n"
      ],
      "metadata": {
        "id": "SjzG5g3ffTyv"
      },
      "execution_count": null,
      "outputs": []
    },
    {
      "cell_type": "markdown",
      "source": [
        "**Soru 4:** 5 öğenin yer aldığı bir sözlük oluşturun. Bu sözlükte 5 kelime ve bu 5 kelimenin anlamları yer almalıdır. Klavyeden girilen anahtar (key) eğer sözlükte varsa kelimenin anlamı ekrana yazdırılmalıdır. Eğer anahtar sözlükte yoksa sözlükte aranan kelimenin olmadığı bilgisi ekrana yazdırılmalıdır."
      ],
      "metadata": {
        "id": "p49cZFjJcXoS"
      }
    },
    {
      "cell_type": "code",
      "execution_count": null,
      "metadata": {
        "id": "3whYCDz3a8QZ"
      },
      "outputs": [],
      "source": [
        "#Soru 4 bu bölümde kodlanmalıdır\n",
        "muzik_terimleri= {\n",
        "    \"arpej\": \"Bir akorun notalarının sırayla çalınması veya söylenmesiyle oluşturulan bir müzikal teknik.\",\n",
        "    \"legato\": \"Müzikte, notaların akıcı bir şekilde birbirine bağlanarak çalınması veya söylenmesi.\",\n",
        "    \"ritardando\": \"Müzikte, yavaşlama anlamına gelir. Tempo kademeli olarak yavaşlar.\",\n",
        "    \"pianissimo\": \"Müzikte, çok yumuşak anlamına gelir. Çok sessiz çalınması gerektiğini belirtir.\",\n",
        "    \"staccato\": \"Müzikte, notaların kısa ve keskin bir şekilde çalınması veya söylenmesi.\"\n",
        "}\n",
        "print(muzik_terimleri)\n",
        "terim = input(\"klavyeden bir terim aratınız: \")\n",
        "if terim in muzik_terimleri:\n",
        "  print(muzik_terimleri[terim])\n",
        "else:\n",
        "  print(\"aradığınız kelime sözlükte bulunmamaktadır!\")"
      ]
    }
  ]
}