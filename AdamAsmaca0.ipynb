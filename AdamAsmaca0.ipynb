{
  "nbformat": 4,
  "nbformat_minor": 0,
  "metadata": {
    "colab": {
      "provenance": [],
      "authorship_tag": "ABX9TyMahVgnPRk6PO3tgiY33Xvv",
      "include_colab_link": true
    },
    "kernelspec": {
      "name": "python3",
      "display_name": "Python 3"
    },
    "language_info": {
      "name": "python"
    }
  },
  "cells": [
    {
      "cell_type": "markdown",
      "metadata": {
        "id": "view-in-github",
        "colab_type": "text"
      },
      "source": [
        "<a href=\"https://colab.research.google.com/github/minayil/hu-bby162-2024/blob/main/AdamAsmaca0.ipynb\" target=\"_parent\"><img src=\"https://colab.research.google.com/assets/colab-badge.svg\" alt=\"Open In Colab\"/></a>"
      ]
    },
    {
      "cell_type": "code",
      "execution_count": null,
      "metadata": {
        "id": "UfW09wnaYhHh"
      },
      "outputs": [],
      "source": [
        "#Adam Asmaca\n",
        "\n",
        "import random\n",
        "\n",
        "def zorluk():\n",
        "  print(\"Adam asmaca oyununa hoşgeldiniz!\")\n",
        "  print(\"Oyunu hangi zorlukta oynamak istersiniz?\")\n",
        "  print(\"Kolay -- 1'e basınız\")\n",
        "  print(\"Orta -- 2'ye basınız\")\n",
        "  print(\"Zor -- 3'e basınız\")\n",
        "  secim = int(input())\n",
        "  if secim == 1:\n",
        "    adamCan = 7\n",
        "  elif secim == 2:\n",
        "    adamCan = 5\n",
        "  elif secim == 3:\n",
        "    adamCan = 3\n",
        "  return adamCan\n",
        "\n",
        "def kelimeSecimi():\n",
        "  kelimeler = [\"elma\",\"armut\",\"kavun\",\"karpuz\",\"çilek\",\"kiraz\",\"kayısı\",\"şeftali\",\"üzüm\",\"ananas\"]\n",
        "  return random.choice(kelimeler)\n",
        "\n",
        "def adamAsmaca():\n",
        "  adamCan = zorluk()\n",
        "  secilenKelime = kelimeSecimi()\n",
        "  dizilenKelime = []\n",
        "  tahminler = []\n",
        "  print(\"Seçtiğiniz zorluğa göre belirlenen can hakkınız: \"+str(adamCan))\n",
        "\n",
        "  for diz in secilenKelime:\n",
        "    dizilenKelime.append(\"_\")\n",
        "  print(dizilenKelime)\n",
        "\n",
        "  while adamCan>0 and \"_\" in dizilenKelime:\n",
        "    print(\"bir harf tahmin edin: \")\n",
        "    tahmin = input().lower()\n",
        "    if tahmin in tahminler:\n",
        "      print(\"bu harfi zaten tahmin ettiniz.\")\n",
        "      continue\n",
        "    tahminler.append(tahmin)\n",
        "    if tahmin in secilenKelime:\n",
        "      for i in range(len(secilenKelime)):\n",
        "        if secilenKelime[i] == tahmin:\n",
        "          dizilenKelime[i] = tahmin\n",
        "        i+=1\n",
        "      print(\"doğru tahmin\")\n",
        "    else:\n",
        "      adamCan -= 1\n",
        "      print(\"yanlış tahmin.Kalan tahmin hakkınız: \"+str(adamCan))\n",
        "    print(dizilenKelime)\n",
        "\n",
        "  if \"_\" not in dizilenKelime:\n",
        "    print(\"Tebrikler,oyunu kazandınız!\")\n",
        "  else:\n",
        "    print(\"Üzgünüm,oyunu kaybettiniz! kelime: \"+ secilenKelime)\n",
        "\n",
        "  if input(\"Tekrar oynamak ister misiniz? (Evet için 'e' // Hayır için 'h') \").lower() == 'e':\n",
        "    adamAsmaca()\n",
        "\n",
        "adamAsmaca()"
      ]
    }
  ]
}