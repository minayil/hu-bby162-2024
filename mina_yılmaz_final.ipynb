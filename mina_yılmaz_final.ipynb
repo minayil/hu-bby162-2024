{
  "nbformat": 4,
  "nbformat_minor": 0,
  "metadata": {
    "colab": {
      "provenance": [],
      "include_colab_link": true
    },
    "kernelspec": {
      "name": "python3",
      "display_name": "Python 3"
    },
    "language_info": {
      "name": "python"
    }
  },
  "cells": [
    {
      "cell_type": "markdown",
      "metadata": {
        "id": "view-in-github",
        "colab_type": "text"
      },
      "source": [
        "<a href=\"https://colab.research.google.com/github/minayil/hu-bby162-2024/blob/main/mina_y%C4%B1lmaz_final.ipynb\" target=\"_parent\"><img src=\"https://colab.research.google.com/assets/colab-badge.svg\" alt=\"Open In Colab\"/></a>"
      ]
    },
    {
      "cell_type": "markdown",
      "source": [
        "**Final Sınavına hoşgeldiniz!**"
      ],
      "metadata": {
        "id": "ItmuxWgBbkC1"
      }
    },
    {
      "cell_type": "markdown",
      "source": [
        "Canlı final sınavı, bilgisayar laboratuvarında bilgisayar başında yapılan ve teslim edilen sınavı ifade etmektedir. Canlı final sınavında yazmış olduğunuz kodlar sizin sorumluluğunuzdadır ve gerekirse hangi kodu neden yazdığınızı açık bir şekilde anlatabilmeniz gerekmektedir. Canlı final sınavı sırasında İnternet üzerindeki kaynaklar kullanılabilir ancak başka bir kişiden destek alınamaz.\n",
        "\n",
        "Canlı final sınavının teslim şekli önceki sınav ve projelerin teslim şekli ile aynıdır. \"Final Sınavı\" adlı Colab not defterinin bir kopyasını çıkarmalı, size ait olan bu kopya üzerinde soruları cevaplamalı, GitHub'daki ders deponuza size ait kopyayı yüklemeli ve not defterinin adresini metin alanına yazarak göndermelisiniz.\n",
        "\n",
        "Canlı final sınavının doğru şekilde tamamlanması da sınavın önemli bir parçasıdır. Sınav için gönderdiğiniz adresi kontrol ediniz ve doğru dosyayı depoya yerleştirdiği bizden emin olunuz. Teslim sürecinde yapılan hatalar sınavdan 0 puan almanıza yol açabilir!\n",
        "\n",
        "**Sınav süresi 60 dakikadır!**\n",
        "\n",
        "Önemli Not: Soruları cecaplarken sadece şu ana kadar öğrendiğiniz kod yapılarını kullanmanız gerekmektedir!!!"
      ],
      "metadata": {
        "id": "KGjdjR5RbTgH"
      }
    },
    {
      "cell_type": "markdown",
      "source": [
        "**----- Sorular -----**"
      ],
      "metadata": {
        "id": "zBvdh4s8cOqM"
      }
    },
    {
      "cell_type": "markdown",
      "source": [
        "**Soru 1:** Kod bölümünde yer alan listeyi ekrana aşağıda gösterildiği şekilde \"for\" döngüsü kullanarak yazdırın. Her kelimenin başındaki numara otomatik olarak verilmelidir. (5 Puan)\n",
        "\n",
        "1.   Açık Erişim\n",
        "2.   Açık Bilim\n",
        "3.   Açık Veri\n",
        "4.   Açık Eğitim\n",
        "5.   Açık Kültür"
      ],
      "metadata": {
        "id": "ma0FVqgQiLBe"
      }
    },
    {
      "cell_type": "code",
      "source": [
        "#Soru 1 bu bölümde kodlanmalıdır\n",
        "acikListe = [\"Açık Erişim\", \"Açık Bilim\", \"Açık Veri\", \"Açık Eğitim\", \"Açık Kültür\"]\n",
        "for i in range(4):\n",
        "  print(str(i+1)+\".\" + acikListe[i])\n"
      ],
      "metadata": {
        "id": "Fj7wkLMcjp_7",
        "colab": {
          "base_uri": "https://localhost:8080/"
        },
        "outputId": "0eaf2832-b5be-43c0-ee7f-8461fb0a5479"
      },
      "execution_count": 4,
      "outputs": [
        {
          "output_type": "stream",
          "name": "stdout",
          "text": [
            "1.Açık Erişim\n",
            "2.Açık Bilim\n",
            "3.Açık Veri\n",
            "4.Açık Eğitim\n"
          ]
        }
      ]
    },
    {
      "cell_type": "markdown",
      "source": [
        "**Soru 2:** Kod bölümünde yer alan boş sözlüğe klavyeden yeni veri ekleyecek kodu yazınız. Yeni veri hem anahtarı (key) hem de anahtara karşılık gelecek değerli (value) içermelidir. Veri girişi yapıldıktan sonra sözlüğün güncel hali de ekrana yazıdırılmalıdır. (5 Puan)"
      ],
      "metadata": {
        "id": "uZDiXJARgK4o"
      }
    },
    {
      "cell_type": "code",
      "source": [
        "#Soru 2 bu bölümde kodlanmalıdır\n",
        "sozluk = {}\n",
        "anahtar = input(\"Sözlüğe eklemek istediğiniz yeni kelimeyi giriniz: \")\n",
        "deger = input(\"Sözlüğe eklemek istediğiniz kelimenin karşılığını giriniz: \")\n",
        "sozluk[anahtar] = deger\n",
        "print(\"Yeni kelime eklenmiş sözlük: \")\n",
        "print(sozluk)"
      ],
      "metadata": {
        "id": "no7Zd1ZCh5U3",
        "colab": {
          "base_uri": "https://localhost:8080/"
        },
        "outputId": "e456973f-06ac-4f93-e751-9f0ec8e909ec"
      },
      "execution_count": 5,
      "outputs": [
        {
          "output_type": "stream",
          "name": "stdout",
          "text": [
            "Sözlüğe eklemek istediğiniz yeni kelimeyi giriniz: car\n",
            "Sözlüğe eklemek istediğiniz kelimenin karşılığını giriniz: araba\n",
            "Yeni kelime eklenmiş sözlük: \n",
            "{'car': 'araba'}\n"
          ]
        }
      ]
    },
    {
      "cell_type": "markdown",
      "source": [
        "**Soru 3:** Herhangi bir metin dosyasında (ör: [veri.txt](https://drive.google.com/file/d/1WVCEET3G3ishvIR-V6lCav7jBgaZLT-o/view?usp=sharing)) satır satır yer alan verileri okuyup ekrana satır satır yazdıracak kodu yazınız. (10 Puan)"
      ],
      "metadata": {
        "id": "HnIqbjcCeNEV"
      }
    },
    {
      "cell_type": "code",
      "source": [
        "#Soru 3 bu bölümde kodlanmalıdır\n",
        "dosya = \"/content/drive/MyDrive/veri.txt\"\n",
        "sistem = open(dosya , \"w\")\n",
        "\n",
        "#okutma işlemi\n",
        "dosyaoku = open(dosya,\"r\")\n",
        "for satir in dosyaoku.readlines():\n",
        "  print(satir)\n",
        "\n",
        "dosyaoku.close()"
      ],
      "metadata": {
        "id": "SjzG5g3ffTyv"
      },
      "execution_count": 10,
      "outputs": []
    },
    {
      "cell_type": "markdown",
      "source": [
        "**Soru 4:** Verilerin bir TXT dosyasında depolanabileceği basit bir adres defteri oluşturunuz. Adres defterindeki öğeler Ad-Soyad ve e-Posta olacaktır. Bu adres desteri uygulamasında bir menü yapısı (uygulama içinde fonksiyolar) olmalıdır. 1. seçenek adres defterindeki girişleri göstermeli, 2. seçenek adres defterine yeni veri eklemeli, 3. seçenek ise uygulamayı sonlandırmalıdır. (20 Puan)"
      ],
      "metadata": {
        "id": "p49cZFjJcXoS"
      }
    },
    {
      "cell_type": "code",
      "execution_count": 13,
      "metadata": {
        "id": "3whYCDz3a8QZ",
        "colab": {
          "base_uri": "https://localhost:8080/"
        },
        "outputId": "a36f1bbc-0e09-45cf-be74-7194cfb7e75c"
      },
      "outputs": [
        {
          "output_type": "stream",
          "name": "stdout",
          "text": [
            "1)Veri Girişi - 2)Liste Yazdir - 0) Çıkış\n",
            "Lütfen seçiminizi menü öğe numarası olarak giriniz: \n",
            "Menü no: 1\n",
            "Adınızı ve soyadınızı giriniz: Mina Yılmaz\n",
            "E-posta adresinizi giriniz: minayilmaz@\n",
            "1)Veri Girişi - 2)Liste Yazdir - 0) Çıkış\n",
            "Lütfen seçiminizi menü öğe numarası olarak giriniz: \n",
            "Menü no: 2\n",
            "Mina Yılmaz - minayilmaz@\n",
            "\n",
            "1)Veri Girişi - 2)Liste Yazdir - 0) Çıkış\n",
            "Lütfen seçiminizi menü öğe numarası olarak giriniz: \n",
            "Menü no: 1\n",
            "Adınızı ve soyadınızı giriniz: selçuk gündüz\n",
            "E-posta adresinizi giriniz: selcukgunduz@\n",
            "1)Veri Girişi - 2)Liste Yazdir - 0) Çıkış\n",
            "Lütfen seçiminizi menü öğe numarası olarak giriniz: \n",
            "Menü no: 2\n",
            "Mina Yılmaz - minayilmaz@\n",
            "\n",
            "selçuk gündüz - selcukgunduz@\n",
            "\n",
            "1)Veri Girişi - 2)Liste Yazdir - 0) Çıkış\n",
            "Lütfen seçiminizi menü öğe numarası olarak giriniz: \n",
            "Menü no: 0\n",
            "Program sonlandırıldı!\n"
          ]
        }
      ],
      "source": [
        "#Soru 4 bu bölümde kodlanmalıdır\n",
        "\n",
        "dosya = \"/content/drive/MyDrive/veri.txt\"\n",
        "sistem = open(dosya,\"w\")\n",
        "liste = []\n",
        "\n",
        "def anaMenu():\n",
        "  print(\"1)Veri Girişi - 2)Liste Yazdir - 0) Çıkış\")\n",
        "  print(\"Lütfen seçiminizi menü öğe numarası olarak giriniz: \")\n",
        "  secilen = input(\"Menü no: \")\n",
        "  if secilen == \"1\":\n",
        "    listeKayit()\n",
        "  elif secilen == \"2\":\n",
        "    listeYazdir()\n",
        "  elif secilen == \"0\":\n",
        "    byeBye()\n",
        "  else:\n",
        "    print(\"Lütfen tanımlı bir öğe giriniz!\")\n",
        "\n",
        "def listeKayit():\n",
        "  adSoyad = input(\"Adınızı ve soyadınızı giriniz: \")\n",
        "  ePosta = input(\"E-posta adresinizi giriniz: \")\n",
        "  dosyaYaz = open(dosya,\"a\")\n",
        "  dosyaYaz.write(adSoyad+\" - \"+ePosta+\"\\n\")\n",
        "  dosyaYaz.close()\n",
        "  anaMenu()\n",
        "\n",
        "def listeYazdir():\n",
        "  dosyaOku = open(dosya,\"r\")\n",
        "  for satir in dosyaOku.readlines():\n",
        "    print(satir)\n",
        "  dosyaOku.close()\n",
        "  anaMenu()\n",
        "\n",
        "def byeBye():\n",
        "  print(\"Program sonlandırıldı!\")\n",
        "\n",
        "anaMenu()"
      ]
    }
  ]
}