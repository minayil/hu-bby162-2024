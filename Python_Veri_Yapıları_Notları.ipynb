{
  "nbformat": 4,
  "nbformat_minor": 0,
  "metadata": {
    "colab": {
      "provenance": [],
      "authorship_tag": "ABX9TyNBSgcfuV1SzHK822LZpYIJ",
      "include_colab_link": true
    },
    "kernelspec": {
      "name": "python3",
      "display_name": "Python 3"
    },
    "language_info": {
      "name": "python"
    }
  },
  "cells": [
    {
      "cell_type": "markdown",
      "metadata": {
        "id": "view-in-github",
        "colab_type": "text"
      },
      "source": [
        "<a href=\"https://colab.research.google.com/github/minayil/hu-bby162-2024/blob/main/Python_Veri_Yap%C4%B1lar%C4%B1_Notlar%C4%B1.ipynb\" target=\"_parent\"><img src=\"https://colab.research.google.com/assets/colab-badge.svg\" alt=\"Open In Colab\"/></a>"
      ]
    },
    {
      "cell_type": "code",
      "execution_count": null,
      "metadata": {
        "id": "MV-1mzfvjjYW"
      },
      "outputs": [],
      "source": [
        "#Listeler\n",
        "'''\n",
        "Liste dediğimiz şey aslında günllük hayatta bildiğimiz tanıdığımız listelerle aynı şeydir. Markete gideriz ve gitmeden dolabımızda eksik\n",
        "olan şeyleri yanımıza not alırız. Mesela dolabımızda domates,salatalık,marul,patlıcan ve biber eksik olsun. Bunun python dilinde ifade\n",
        "edilmiş şekli:\n",
        "\n",
        "alisverisListesi = [\"domates\",\"salatalık\",\"marul\",\"patlıcan\",\"biber\"]\n",
        "\n",
        "Python dilinde bu şekilde tek bir değişkenin içinde birden fazla değer tutabiliriz. Bu öğeleri ayrı ayrı tırnak içinde belirtmemizin sebebi\n",
        "hepsinin birbirinden bağımsız string (karakter) değerleri ifade etmesidie. Domates'in Biber'e etkisi yoktur. Sadece aynı listenin içinde\n",
        "saklanırlar.\n",
        "'''"
      ]
    },
    {
      "cell_type": "code",
      "source": [
        "#Listeyi ekrana yazdırma\n",
        "alisverisListesi = [\"domates\",\"salatalık\",\"marul\",\"patlıcan\",\"biber\"]\n",
        "print(alisverisListesi)"
      ],
      "metadata": {
        "id": "Udf6kgP2k2e_"
      },
      "execution_count": null,
      "outputs": []
    },
    {
      "cell_type": "code",
      "source": [
        "#listenin içinden herhangi bir elemanı yazdımak\n",
        "'''bu işlem için indeksleri kullanıyoruz. Alışveriş listemizde 5 adet eleman var.Bunlardan 'marul'u ekrana yazdırmak istiyoruz diyelim.\n",
        "Yani listedeki 3. elemanı ekrana yazdırmak istiyoruz. Fakat bir liste indekslenirken ilk eleman her zaman 0. eleman olarak alınır.\n",
        "Bunun sebebi indekslerin sadece pozitif sayılarda artarak ilerlememesinden kaynaklı. Liste öğeleri aynı zamanda negatif sayılarda da indekslenebilir.'''\n",
        "#şimdi listeden marul'u ekrana yazdıralım\n",
        "alisverisListesi = [\"domates\",\"salatalık\",\"marul\",\"patlıcan\",\"biber\"]\n",
        "#elemanları saymaya 0'dan başlayınca marul 2. eleman oluyor\n",
        "print(alisverisListesi[2])\n",
        "#kodu çalıştır"
      ],
      "metadata": {
        "id": "DWLlh1lNlebc"
      },
      "execution_count": null,
      "outputs": []
    },
    {
      "cell_type": "code",
      "source": [
        "#diyelim ki maruldan itibaren tüm diğer öğeleri de yazdırmak istiyoruz:\n",
        "alisverisListesi = [\"domates\",\"salatalık\",\"marul\",\"patlıcan\",\"biber\"]\n",
        "print(alisverisListesi[2 : ])\n",
        "#burayı hatırlayamadıysan \"metin katarı dilimleme\" konusuna bak"
      ],
      "metadata": {
        "id": "O8gaI9q3nCCD"
      },
      "execution_count": null,
      "outputs": []
    },
    {
      "cell_type": "code",
      "source": [
        "#listeye yeni öğeler ekleme (append)\n",
        "'''\n",
        "diyelim ki alışveriş listemizi yazdık ve markete doğru yola çıktık ama yolda evde ekmek de olmadığı aklımıza geldi.\n",
        "Zaten var olan listemize bunu en kolay yoldan append() fonksiyonu yardımıyla ya da '+=' artırılmış atama operatörüyle\n",
        "ekleyebiliriz. İki yoldan da eklediğimiz elemanlar listenin en sonuna eklenecektir.\n",
        "'''\n",
        "alisverisListesi = [\"domates\",\"salatalık\",\"marul\",\"patlıcan\",\"biber\"]\n",
        "alisverisListesi.append(\"ekmek\")\n",
        "print(alisverisListesi)"
      ],
      "metadata": {
        "id": "fc5GqcEcnfrh"
      },
      "execution_count": null,
      "outputs": []
    },
    {
      "cell_type": "code",
      "source": [
        "#listeye yeni öğeler ekleme (+=)\n",
        "alisverisListesi = [\"domates\",\"salatalık\",\"marul\",\"patlıcan\",\"biber\"]\n",
        "alisverisListesi += [\"ekmek\"]\n",
        "print(alisverisListesi)"
      ],
      "metadata": {
        "id": "Y6ajVGreoeKx"
      },
      "execution_count": null,
      "outputs": []
    },
    {
      "cell_type": "code",
      "source": [
        "#listedeki bir öğeyi değiştirme\n",
        "'''\n",
        "diyelim ki listemize salatalık yazdık ama aslında turşuya ihtiyacımız vardı ve salatalık yerine turşu yazmak istiyoruz.\n",
        "yapmamız gereken şey hangi elemanı değiştirmek istiyorsak onun indeksini yazıp doğrusuyla değiştirmek\n",
        "'''\n",
        "alisverisListesi = [\"domates\",\"salatalık\",\"marul\",\"patlıcan\",\"biber\"]\n",
        "alisverisListesi[1] = \"tursu\"\n",
        "print(alisverisListesi)"
      ],
      "metadata": {
        "id": "lDVyFUlno2Cp"
      },
      "execution_count": null,
      "outputs": []
    },
    {
      "cell_type": "code",
      "source": [
        "#Listede dilimleme yapmak metin katarında dilimleme yapmak ile aynı şeydir."
      ],
      "metadata": {
        "id": "8y484Ay1pofK"
      },
      "execution_count": null,
      "outputs": []
    },
    {
      "cell_type": "code",
      "source": [
        "#Demetler\n",
        "'''\n",
        "Demetler listelerle aynı şeydir.Demetler ve listeler arasındaki tek fark demetlerin elemanlarının değişememesidir.\n",
        "Mesela marketten alacaklarımız her gün değişebilir fakat mesela kimsenin tc kimlik numarası değişmez.\n",
        "'''\n",
        "#3 arkadaşın tc kimlik numaralarının sıralandığı bir demet örneği\n",
        "tcnodemeti = (\"001\",\"002\",\"003\")\n",
        "print(tcnodemeti)"
      ],
      "metadata": {
        "id": "QWnQaPKBpt_C"
      },
      "execution_count": null,
      "outputs": []
    },
    {
      "cell_type": "code",
      "source": [
        "#SÖZLÜKLER\n",
        "'''\n",
        "Sözlükler ve listeler yapı olarak birbirine benzerler. Fakat sözlüklerde her elemanın 2 alt özelliği vardır: anahtar(key)\n",
        "ve değer(value). Mesela bir ingilizce-türkçe sözlük düşünelim. Bu sözcüğü açtığımızda \"Hello\" diye bir kelimeyle karşılaşırız.\n",
        "Bu kelime sözlükte tek başına var olamaz. Onu sözlük yapan şey bu sözcüklerin karşılıklarının olmasıdır. \"Hello\" nun (anahtar) açıklamasına\n",
        "yazılan \"merhaba\" sözcüğü bu yüzden değeri ifade eder.\n",
        "'''\n",
        "#örnek sözlük (ingilizce-türkçe sözlük)\n",
        "sozluk = {\"cat\":\"kedi\",\"dog\":\"köpek\",\"elephant\":\"fil\",\"lion\":\"aslan\"}\n",
        "print(sozluk)"
      ],
      "metadata": {
        "id": "hcOlZS_4qhVF"
      },
      "execution_count": null,
      "outputs": []
    },
    {
      "cell_type": "code",
      "source": [
        "#sözlüğe yeni öğe ekleme\n",
        "sozluk = {\"cat\":\"kedi\",\"dog\":\"köpek\",\"elephant\":\"fil\",\"lion\":\"aslan\"}\n",
        "sozluk[\"car\"] = \"araba\"\n",
        "#eklemek istediğimiz sözcüğün kendisini parantez içine,açıklamasını eşittirden sonraki kısıma yazıyoruz\n",
        "print(sozluk)"
      ],
      "metadata": {
        "id": "xPm8hOPhrslp"
      },
      "execution_count": null,
      "outputs": []
    },
    {
      "cell_type": "code",
      "source": [
        "#sözlükten öğe silme\n",
        "sozluk = {\"cat\":\"kedi\",\"dog\":\"köpek\",\"elephant\":\"fil\",\"lion\":\"aslan\"}\n",
        "del sozluk[\"cat\"]\n",
        "print(sozluk)"
      ],
      "metadata": {
        "id": "uXPdrWUuselS"
      },
      "execution_count": null,
      "outputs": []
    },
    {
      "cell_type": "code",
      "source": [
        "#sözlükte sadece anahtarları veya sadece değerleri yazdırabiliriz\n",
        "sozluk = {\"cat\":\"kedi\",\"dog\":\"köpek\",\"elephant\":\"fil\",\"lion\":\"aslan\"}\n",
        "print(sozluk.keys()) #anahtarları yazdırır\n",
        "print(sozluk.values()) #değerleri yazdırır"
      ],
      "metadata": {
        "id": "5CDQqZUxsy5w"
      },
      "execution_count": null,
      "outputs": []
    },
    {
      "cell_type": "code",
      "source": [
        "#sözlüklerde kelime aramak\n",
        "'''\n",
        "sözlüklerde merak ettiğimiz herhangi bir kelimenin o sözlük içinde olup olmadığını öğrenmek için\n",
        "'In' fonksiyonunu kullanırız. Mesela bizim sözlüğümüzde elephant kelimesi var mı diye bakalım\n",
        "'''\n",
        "sozluk = {\"cat\":\"kedi\",\"dog\":\"köpek\",\"elephant\":\"fil\",\"lion\":\"aslan\"}\n",
        "print(\"elephant\" in sozluk) #True değerini verecektir çünkü sözlüğümüzde bu kelime var\n",
        "print(\"parrot\" in sozluk) #False değerini verecektir çünkü sözlüğümüzde yok"
      ],
      "metadata": {
        "id": "KJ8NgbhitXQS"
      },
      "execution_count": null,
      "outputs": []
    }
  ]
}